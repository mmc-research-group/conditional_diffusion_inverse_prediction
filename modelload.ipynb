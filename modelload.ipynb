{
 "cells": [
  {
   "cell_type": "markdown",
   "id": "9d6f7c48-d4c4-4624-b8f1-c858bce4c072",
   "metadata": {},
   "source": [
    "# Load the trained conditional diffusion model and perform generation"
   ]
  },
  {
   "cell_type": "code",
   "execution_count": 58,
   "id": "f2b78f36-e861-4bb8-9771-6f63e31ffda1",
   "metadata": {
    "tags": []
   },
   "outputs": [],
   "source": [
    "import torch\n",
    "import torchvision"
   ]
  },
  {
   "cell_type": "code",
   "execution_count": 59,
   "id": "51a7249c-329b-425e-94e2-ca79cc5b33ff",
   "metadata": {
    "tags": []
   },
   "outputs": [
    {
     "name": "stdout",
     "output_type": "stream",
     "text": [
      "2.1.0\n",
      "0.16.0\n",
      "True\n",
      "1\n",
      "0\n"
     ]
    }
   ],
   "source": [
    "print(torch.__version__)\n",
    "print(torchvision.__version__)\n",
    "print(torch.cuda.is_available()) \n",
    "print(torch.cuda.device_count()) \n",
    "print(torch.cuda.current_device()) "
   ]
  },
  {
   "cell_type": "code",
   "execution_count": 60,
   "id": "3f150dec-9adf-4dd4-a8c0-32064f7d902f",
   "metadata": {},
   "outputs": [],
   "source": [
    "# Specify the variable contained in the filename of the model to be loaded\n",
    "now = '150307'\n",
    "lr_ddpm = 1e-4\n",
    "model_epoch = 299"
   ]
  },
  {
   "cell_type": "markdown",
   "id": "11f0ba13-a86f-4387-81b4-7dfa11e953b8",
   "metadata": {},
   "source": [
    "## Importing modules"
   ]
  },
  {
   "cell_type": "code",
   "execution_count": 61,
   "id": "13462620-1ea3-4787-a7d0-7679c137bdd0",
   "metadata": {
    "tags": []
   },
   "outputs": [],
   "source": [
    "import numpy as np\n",
    "import os\n",
    "import random\n",
    "import glob\n",
    "import argparse, logging, copy\n",
    "from matplotlib import pyplot as plt\n",
    "from matplotlib.colors import Normalize\n",
    "from tqdm import tqdm\n",
    "from IPython.display import clear_output\n",
    "from pathlib import Path\n",
    "from PIL import Image\n",
    "from types import SimpleNamespace\n",
    "from contextlib import nullcontext\n",
    "from fastprogress import progress_bar\n",
    "from modules import UNet_conditional, EMA\n",
    "from datetime import datetime\n",
    "\n",
    "import torch.nn as nn\n",
    "import torch.optim as optim\n",
    "from torch.optim import Adam\n",
    "from torch.utils.data import DataLoader\n",
    "import torchvision.transforms as transforms\n",
    "from torchvision.transforms import Compose, ToTensor, Lambda, ToPILImage, CenterCrop, Resize\n",
    "from torchvision import transforms\n",
    "from torchvision.utils import save_image"
   ]
  },
  {
   "cell_type": "code",
   "execution_count": 62,
   "id": "f653ed62-e469-4153-93ec-e48c42af3226",
   "metadata": {
    "tags": []
   },
   "outputs": [],
   "source": [
    "batch_size = 15 "
   ]
  },
  {
   "cell_type": "markdown",
   "id": "296b6e5c-31cb-4d89-b03d-d8d32d2ed6c5",
   "metadata": {
    "tags": []
   },
   "source": [
    "## train_dataset/train_dataloader"
   ]
  },
  {
   "cell_type": "code",
   "execution_count": 63,
   "id": "248ede77-8ca1-4b9a-be51-621c97bbe21a",
   "metadata": {
    "tags": []
   },
   "outputs": [],
   "source": [
    "class MyTransform():\n",
    "    def __init__(self, isNormalize=True):\n",
    "        if isNormalize:\n",
    "            self.my_transform = transforms.Compose([\n",
    "                transforms.ToTensor(),\n",
    "                transforms.Normalize((0.5, ), (0.5, ))\n",
    "            ])\n",
    "        else:\n",
    "            self.my_transform = transforms.Compose([\n",
    "                transforms.ToTensor()\n",
    "            ])\n",
    "    def __call__(self, img):\n",
    "        return self.my_transform(img)"
   ]
  },
  {
   "cell_type": "code",
   "execution_count": 64,
   "id": "da2f3308-2faf-43bd-be43-f418dba871b7",
   "metadata": {
    "tags": []
   },
   "outputs": [],
   "source": [
    "class NpyDataset(torch.utils.data.Dataset):\n",
    "    def __init__(self, data_file, label_file, transform=None):\n",
    "        self.data = np.load(data_file)\n",
    "        self.label = np.load(label_file, allow_pickle=True)\n",
    "        self.transform = transform\n",
    "\n",
    "    def __len__(self):\n",
    "        return len(self.data)\n",
    "\n",
    "    def __getitem__(self, idx):\n",
    "        x = self.data[idx]\n",
    "        y = self.label[idx]\n",
    "        if self.transform:\n",
    "            x = self.transform(x)\n",
    "        return x, y"
   ]
  },
  {
   "cell_type": "code",
   "execution_count": 67,
   "id": "d3a63033-1afd-4e32-9ed1-32fc2b8dea27",
   "metadata": {},
   "outputs": [
    {
     "name": "stdout",
     "output_type": "stream",
     "text": [
      "train_dataset 72\n",
      "train_dataloader 4\n"
     ]
    }
   ],
   "source": [
    "train_dir = \"saved_datasets/train\"\n",
    "\n",
    "train_data = np.load(os.path.join(train_dir, \"train_dataset_data.npy\"))\n",
    "train_label = np.load(os.path.join(train_dir, \"train_dataset_label.npy\"))\n",
    "\n",
    "train_dataloader_settings = np.load(\n",
    "    os.path.join(train_dir, \"dataloader_settings.npy\"),\n",
    "    allow_pickle=True\n",
    ").item()\n",
    "\n",
    "data_tra = NpyDataset(\n",
    "    data_file=os.path.join(train_dir, \"train_dataset_data.npy\"),\n",
    "    label_file=os.path.join(train_dir, \"train_dataset_label.npy\"),\n",
    "    transform=MyTransform(isNormalize=False)\n",
    ")\n",
    "\n",
    "print(\"train_dataset\", len(data_tra))\n",
    "\n",
    "g = torch.Generator()\n",
    "g.manual_seed(42)\n",
    "\n",
    "train_dataloader = torch.utils.data.DataLoader(\n",
    "    data_tra,\n",
    "    **train_dataloader_settings,\n",
    "    generator=g\n",
    ")\n",
    "print(\"train_dataloader\", len(train_dataloader))"
   ]
  },
  {
   "cell_type": "code",
   "execution_count": 68,
   "id": "92e76e56-d382-433c-bcd4-d72bbb5884f2",
   "metadata": {
    "tags": []
   },
   "outputs": [
    {
     "name": "stdout",
     "output_type": "stream",
     "text": [
      "(72, 64, 64, 2)\n"
     ]
    }
   ],
   "source": [
    "print(train_data.shape)"
   ]
  },
  {
   "cell_type": "code",
   "execution_count": 69,
   "id": "fc587b9f-f87a-42d3-a718-716c19012d41",
   "metadata": {
    "tags": []
   },
   "outputs": [
    {
     "data": {
      "image/png": "[encoded data removed]",
      "text/plain": [
       "<Figure size 1500x600 with 5 Axes>"
      ]
     },
     "metadata": {},
     "output_type": "display_data"
    }
   ],
   "source": [
    "# When seeing the dataset --> Since it hasn't been shuffled, it's in order\n",
    "\n",
    "plt.figure(figsize=(15,6))\n",
    "\n",
    "for i in range(5):\n",
    "    img, labels_list = data_tra[i]\n",
    "    img = img[0]\n",
    "    plt.subplot(1,5,i+1) \n",
    "    plt.imshow(img, cmap=\"coolwarm\",interpolation='none')\n",
    "    plt.tick_params(labelbottom=False,labelleft=False)\n",
    "    plt.tick_params(bottom=False,left=False)"
   ]
  },
  {
   "cell_type": "code",
   "execution_count": 70,
   "id": "0dd00ab2-9a3c-4635-90a0-86f13e424bdb",
   "metadata": {},
   "outputs": [
    {
     "data": {
      "image/png": "[encoded data removed]",
      "text/plain": [
       "<Figure size 1500x600 with 5 Axes>"
      ]
     },
     "metadata": {},
     "output_type": "display_data"
    }
   ],
   "source": [
    "plt.figure(figsize=(15,6))\n",
    "\n",
    "for i in range(5):\n",
    "    img, labels_list = data_tra[i]\n",
    "    img2 = img[1]\n",
    "    plt.subplot(1,5, i+1)\n",
    "    plt.imshow(img2, cmap=\"plasma\",norm=Normalize(vmin=-1,vmax=1))\n",
    "    plt.tick_params(labelbottom=False,labelleft=False)\n",
    "    plt.tick_params(bottom=False,left=False)"
   ]
  },
  {
   "cell_type": "code",
   "execution_count": 71,
   "id": "be2ce7b1-e185-4b05-9b9a-603e5f2ca0d8",
   "metadata": {
    "tags": []
   },
   "outputs": [
    {
     "data": {
      "image/png": "[encoded data removed]",
      "text/plain": [
       "<Figure size 1500x600 with 5 Axes>"
      ]
     },
     "metadata": {},
     "output_type": "display_data"
    }
   ],
   "source": [
    "plt.figure(figsize=(15,6))\n",
    "\n",
    "for i in range(5):\n",
    "    plt.subplot(1,5,i+1)\n",
    "    batch = next(iter(train_dataloader))\n",
    "    img = batch[0][i][0]\n",
    "    plt.imshow(img, cmap=\"coolwarm\",interpolation='none')\n",
    "    plt.tick_params(labelbottom=False,labelleft=False)\n",
    "    plt.tick_params(bottom=False,left=False)  "
   ]
  },
  {
   "cell_type": "code",
   "execution_count": 72,
   "id": "59667a0e-cb14-4df1-947c-3afcd57ee4f0",
   "metadata": {
    "tags": []
   },
   "outputs": [
    {
     "data": {
      "image/png": "[encoded data removed]",
      "text/plain": [
       "<Figure size 1500x600 with 5 Axes>"
      ]
     },
     "metadata": {},
     "output_type": "display_data"
    }
   ],
   "source": [
    "plt.figure(figsize=(15,6))\n",
    "\n",
    "for i in range(5):\n",
    "    plt.subplot(1,5,i+1)\n",
    "    batch = next(iter(train_dataloader))\n",
    "    img = batch[0][i][1]\n",
    "    plt.imshow(img, cmap=\"plasma\",interpolation='none')\n",
    "    plt.tick_params(labelbottom=False,labelleft=False)\n",
    "    plt.tick_params(bottom=False,left=False)  "
   ]
  },
  {
   "cell_type": "markdown",
   "id": "fecd1143-da67-4423-8594-0ec13c0d3c32",
   "metadata": {
    "tags": []
   },
   "source": [
    "## validation_dataset/validation_dataloader"
   ]
  },
  {
   "cell_type": "code",
   "execution_count": 12,
   "id": "8383e4ce-8d31-43a3-ae66-ea0c5107d369",
   "metadata": {
    "tags": []
   },
   "outputs": [],
   "source": [
    "class MyTransform():\n",
    "    def __init__(self, isNormalize=True):\n",
    "        if isNormalize:\n",
    "            self.my_transform = transforms.Compose([\n",
    "                transforms.ToTensor(),\n",
    "                transforms.Normalize((0.5, ), (0.5, ))  \n",
    "            ])\n",
    "        else:\n",
    "            self.my_transform = transforms.Compose([\n",
    "                transforms.ToTensor()\n",
    "            ])\n",
    "    def __call__(self, img):\n",
    "        return self.my_transform(img)"
   ]
  },
  {
   "cell_type": "code",
   "execution_count": 13,
   "id": "ee90b4d4-0c48-437a-b9ce-9a239162cdcc",
   "metadata": {
    "tags": []
   },
   "outputs": [],
   "source": [
    "class NpyDataset(torch.utils.data.Dataset):\n",
    "    def __init__(self, data_file, label_file, transform=None):\n",
    "        self.data = np.load(data_file)\n",
    "        self.label = np.load(label_file, allow_pickle=True)\n",
    "        self.transform = transform\n",
    "\n",
    "    def __len__(self):\n",
    "        return len(self.data)\n",
    "\n",
    "    def __getitem__(self, idx):\n",
    "        x = self.data[idx]\n",
    "        y = self.label[idx]\n",
    "        if self.transform:\n",
    "            x = self.transform(x)\n",
    "        return x, y"
   ]
  },
  {
   "cell_type": "code",
   "execution_count": 73,
   "id": "1e538f1a-22fd-4ef5-ab2e-3b19d584c388",
   "metadata": {
    "tags": []
   },
   "outputs": [
    {
     "name": "stdout",
     "output_type": "stream",
     "text": [
      "val_dataset 24\n",
      "val_dataloader 2\n"
     ]
    }
   ],
   "source": [
    "val_dir = \"saved_datasets/val\"\n",
    "\n",
    "val_data = np.load(os.path.join(val_dir, \"val_dataset_data.npy\"))\n",
    "val_label = np.load(os.path.join(val_dir, \"val_dataset_label.npy\"))\n",
    "\n",
    "val_dataloader_settings = np.load(\n",
    "    os.path.join(val_dir, \"val_dataloader_settings.npy\"),\n",
    "    allow_pickle=True\n",
    ").item()\n",
    "\n",
    "data_val = NpyDataset(\n",
    "    data_file=os.path.join(val_dir, \"val_dataset_data.npy\"),\n",
    "    label_file=os.path.join(val_dir, \"val_dataset_label.npy\"),\n",
    "    transform=MyTransform(isNormalize=False)\n",
    ")\n",
    "\n",
    "print(\"val_dataset\", len(data_val))\n",
    "\n",
    "val_dataloader = torch.utils.data.DataLoader(\n",
    "    data_val,\n",
    "    **val_dataloader_settings\n",
    ")\n",
    "print(\"val_dataloader\", len(val_dataloader))"
   ]
  },
  {
   "cell_type": "code",
   "execution_count": 74,
   "id": "095f8228-7eb0-48b4-bea7-1b24aef7b1e6",
   "metadata": {
    "tags": []
   },
   "outputs": [
    {
     "data": {
      "image/png": "[encoded data removed]",
      "text/plain": [
       "<Figure size 1500x600 with 5 Axes>"
      ]
     },
     "metadata": {},
     "output_type": "display_data"
    }
   ],
   "source": [
    "# When seeing the dataset --> Since it hasn't been shuffled, it's in order\n",
    "\n",
    "plt.figure(figsize=(15,6))\n",
    "\n",
    "for i in range(5):\n",
    "    img, labels_list = data_val[i]\n",
    "    img = img[0]\n",
    "    plt.subplot(1,5,i+1)\n",
    "    plt.imshow(img, cmap=\"coolwarm\",interpolation='none')\n",
    "    plt.tick_params(labelbottom=False,labelleft=False)\n",
    "    plt.tick_params(bottom=False,left=False)"
   ]
  },
  {
   "cell_type": "code",
   "execution_count": 75,
   "id": "4f6bff13-2c9a-4940-8fc3-8ab8c23ba174",
   "metadata": {},
   "outputs": [
    {
     "data": {
      "image/png": "[encoded data removed]",
      "text/plain": [
       "<Figure size 1500x600 with 5 Axes>"
      ]
     },
     "metadata": {},
     "output_type": "display_data"
    }
   ],
   "source": [
    "plt.figure(figsize=(15,6))\n",
    "\n",
    "for i in range(5):\n",
    "    img, labels_list = data_val[i]\n",
    "    img2 = img[1]\n",
    "    plt.subplot(1,5,i+1)\n",
    "    plt.imshow(img2, cmap=\"plasma\",norm=Normalize(vmin=-1,vmax=1))\n",
    "    plt.tick_params(labelbottom=False,labelleft=False)\n",
    "    plt.tick_params(bottom=False,left=False)"
   ]
  },
  {
   "cell_type": "code",
   "execution_count": 76,
   "id": "f7cc01d5-2948-46da-a1fa-002a287fcb0a",
   "metadata": {
    "tags": []
   },
   "outputs": [
    {
     "name": "stdout",
     "output_type": "stream",
     "text": [
      "cuda\n"
     ]
    }
   ],
   "source": [
    "gpu = torch.device(\"cuda\")\n",
    "cpu = torch.device(\"cpu\")\n",
    "print(gpu)"
   ]
  },
  {
   "cell_type": "markdown",
   "id": "80facbed-1efe-443d-a8d6-246b90d49ed1",
   "metadata": {},
   "source": [
    "## ddpm_conditional"
   ]
  },
  {
   "cell_type": "code",
   "execution_count": 19,
   "id": "bc38c475-682d-4df0-ba96-9307ea29278f",
   "metadata": {
    "tags": []
   },
   "outputs": [],
   "source": [
    "epochs_ddpm = 10000\n",
    "config = SimpleNamespace(    \n",
    "    run_name = \"DDPM_conditional\",\n",
    "    epochs = epochs_ddpm,\n",
    "    noise_steps=1000,\n",
    "    seed = 42,\n",
    "    batch_size = batch_size,\n",
    "    img_size = 64,\n",
    "    device = \"cuda\",\n",
    "    slice_size = 1,\n",
    "    do_validation = True,\n",
    "    fp16 = True,\n",
    "    log_every_epoch = 1000,\n",
    "    num_workers=4,\n",
    "    lr = lr_ddpm)"
   ]
  },
  {
   "cell_type": "code",
   "execution_count": 20,
   "id": "b39b08bc-f4b2-4327-85fb-c9d98ff024e5",
   "metadata": {
    "tags": []
   },
   "outputs": [
    {
     "data": {
      "text/plain": [
       "namespace(run_name='DDPM_conditional',\n",
       "          epochs=10000,\n",
       "          noise_steps=1000,\n",
       "          seed=42,\n",
       "          batch_size=15,\n",
       "          img_size=64,\n",
       "          device='cuda',\n",
       "          slice_size=1,\n",
       "          do_validation=True,\n",
       "          fp16=True,\n",
       "          log_every_epoch=1000,\n",
       "          num_workers=4,\n",
       "          lr=0.0001)"
      ]
     },
     "execution_count": 20,
     "metadata": {},
     "output_type": "execute_result"
    }
   ],
   "source": [
    "config"
   ]
  },
  {
   "cell_type": "code",
   "execution_count": 21,
   "id": "258ea065-5ca8-44d2-a7fe-0405931b1dd6",
   "metadata": {},
   "outputs": [],
   "source": [
    "def set_seed(s, reproducible=False):\n",
    "    try: torch.manual_seed(s)\n",
    "    except NameError: pass\n",
    "    try: torch.cuda.manual_seed_all(s)\n",
    "    except NameError: pass\n",
    "    try: np.random.seed(s%(2**32-1))\n",
    "    except NameError: pass\n",
    "    random.seed(s)\n",
    "    if reproducible:\n",
    "        torch.backends.cudnn.deterministic = True\n",
    "        torch.backends.cudnn.benchmark = False"
   ]
  },
  {
   "cell_type": "code",
   "execution_count": 22,
   "id": "72cdcebc-1929-4197-87f7-2ad268bbd3b8",
   "metadata": {},
   "outputs": [],
   "source": [
    "model_save_dir = os.path.join(\"./models\", \"models_{0}_{1}\".format(now, lr_ddpm))"
   ]
  },
  {
   "cell_type": "code",
   "execution_count": 23,
   "id": "5d5f027d-32f9-42c1-a65e-4086af843cbb",
   "metadata": {
    "tags": []
   },
   "outputs": [],
   "source": [
    "save_epoch = 10\n",
    "\n",
    "class Diffusion:\n",
    "    def __init__(self, noise_steps=1000, beta_start=1e-4, beta_end=0.02, img_size=256, c_in=2, c_out=2,  device=\"cuda\", **kwargs): \n",
    "        self.noise_steps = noise_steps \n",
    "        self.beta_start = beta_start\n",
    "        self.beta_end = beta_end\n",
    "        \n",
    "        self.now = now\n",
    "        self.beta = self.prepare_noise_schedule().to(device)\n",
    "        self.alpha = 1. - self.beta\n",
    "        self.alpha_hat = torch.cumprod(self.alpha, dim=0)\n",
    "\n",
    "        self.img_size = img_size\n",
    "        self.model = torch.load(\"./models/\"+\"models_{0}_{1}/\".format(str(now),str(lr_ddpm))+\"model_{0}.pt\".format(model_epoch))\n",
    "        self.ema_model = copy.deepcopy(self.model).eval().requires_grad_(False)\n",
    "        self.device = device\n",
    "        self.c_in = c_in\n",
    "\n",
    "    def prepare_noise_schedule(self):\n",
    "        return torch.linspace(self.beta_start, self.beta_end, self.noise_steps)\n",
    "    \n",
    "    def sample_timesteps(self, n):\n",
    "        return torch.randint(low=1, high=self.noise_steps, size=(n,))\n",
    "\n",
    "    def noise_images(self, x, t):\n",
    "        sqrt_alpha_hat = torch.sqrt(self.alpha_hat[t])[:, None, None, None]\n",
    "        sqrt_one_minus_alpha_hat = torch.sqrt(1 - self.alpha_hat[t])[:, None, None, None]\n",
    "        Ɛ = torch.randn_like(x)\n",
    "        return sqrt_alpha_hat * x + sqrt_one_minus_alpha_hat * Ɛ, Ɛ\n",
    "    \n",
    "    @torch.inference_mode()\n",
    "    def sample(self, use_ema, labels, cfg_scale=3): \n",
    "        model = self.ema_model if use_ema else self.model\n",
    "        n = len(labels)\n",
    "        model.eval()\n",
    "        with torch.inference_mode():\n",
    "            x = torch.randn((n, self.c_in, self.img_size, self.img_size)).to(self.device) \n",
    "            for i in progress_bar(reversed(range(1, self.noise_steps)), total=self.noise_steps-1, leave=False):\n",
    "                t = (torch.ones(n) * i).long().to(self.device)\n",
    "                predicted_noise = model(x, t, labels)\n",
    "                if cfg_scale > 0:\n",
    "                    uncond_predicted_noise = model(x, t, None)\n",
    "                    predicted_noise = torch.lerp(uncond_predicted_noise, predicted_noise, cfg_scale)\n",
    "                alpha = self.alpha[t][:, None, None, None]\n",
    "                alpha_hat = self.alpha_hat[t][:, None, None, None]\n",
    "                beta = self.beta[t][:, None, None, None]\n",
    "                if i > 1:\n",
    "                    noise = torch.randn_like(x)\n",
    "                else:\n",
    "                    noise = torch.zeros_like(x)\n",
    "                x = 1 / torch.sqrt(alpha) * (x - ((1 - alpha) / (torch.sqrt(1 - alpha_hat))) * predicted_noise) + torch.sqrt(beta) * noise\n",
    "        return x\n",
    "\n",
    "    def train_step(self, loss):\n",
    "        self.optimizer.zero_grad()\n",
    "        self.scaler.scale(loss).backward()\n",
    "        self.scaler.step(self.optimizer)\n",
    "        self.scaler.update()\n",
    "        self.ema.step_ema(self.ema_model, self.model)\n",
    "        self.scheduler.step()\n",
    "\n",
    "    def one_epoch(self, train=True): \n",
    "        avg_loss = 0.\n",
    "        if train: \n",
    "            self.model.train()\n",
    "            pbar = progress_bar(train_dataloader, leave=False)\n",
    "        \n",
    "        else: \n",
    "            self.model.eval()\n",
    "            pbar = progress_bar(val_dataloader, leave=False)\n",
    "        for i, (images, labels) in enumerate(pbar):\n",
    "            with torch.autocast(\"cuda\") and (torch.inference_mode() if not train else torch.enable_grad()):\n",
    "                images = images.to(self.device).float()\n",
    "                labels = labels.to(self.device)\n",
    "                t = self.sample_timesteps(images.shape[0]).to(self.device)\n",
    "                x_t, noise = self.noise_images(images, t)\n",
    "\n",
    "                if np.random.random() < 0.1:\n",
    "                    labels = None\n",
    "                predicted_noise = self.model(x_t, t, labels)\n",
    "                loss = self.mse(noise, predicted_noise)\n",
    "                avg_loss += loss\n",
    "            if train:\n",
    "                self.train_step(loss)\n",
    "            pbar.comment = f\"MSE={loss.item():2.3f}\"   \n",
    "        return avg_loss.mean()\n",
    "    \n",
    "    def load(self, model_cpkt_path, model_ckpt=\"ckpt.pt\", ema_model_ckpt=\"ema_ckpt.pt\"):\n",
    "        self.model.load_state_dict(torch.load(os.path.join(model_cpkt_path, model_ckpt)))\n",
    "        self.ema_model.load_state_dict(torch.load(os.path.join(model_cpkt_path, ema_model_ckpt)))\n",
    "     \n",
    "    def save_model(self, run_name, epoch=-1): \n",
    "        torch.save(self.model.state_dict(), os.path.join(model_save_dir, \"ckpt.pt\"))\n",
    "        torch.save(self.ema_model.state_dict(), os.path.join(model_save_dir, \"ema_ckpt.pt\"))\n",
    "        torch.save(self.optimizer.state_dict(), os.path.join(model_save_dir, \"optim.pt\"))\n",
    "\n",
    "    def prepare(self, args):\n",
    "        self.optimizer = optim.AdamW(self.model.parameters(), lr=args.lr, eps=1e-5)\n",
    "        self.scheduler = optim.lr_scheduler.OneCycleLR(self.optimizer, max_lr=args.lr, \n",
    "                                                 steps_per_epoch=len(train_dataloader), epochs=args.epochs)\n",
    "        self.mse = nn.MSELoss()\n",
    "        self.ema = EMA(0.995)\n",
    "        self.scaler = torch.cuda.amp.GradScaler()\n",
    "        \n",
    "        print(train_dataloader)\n",
    "        print(val_dataloader)\n",
    "  \n",
    "    def fit(self, args):\n",
    "        loss_li_tra = []\n",
    "        loss_li_val = []\n",
    "        date = \"\" \n",
    "        \n",
    "        for epoch in progress_bar(range(args.epochs), total=args.epochs, leave=True):\n",
    "            avg_loss_tra = self.one_epoch(train=True)\n",
    "            loss_cpu_tra = avg_loss_tra.detach().to(cpu).numpy().copy()\n",
    "            # training loss\n",
    "            if epoch % 1000 == 0: \n",
    "                print(\"tra_loss\", avg_loss_tra.item())\n",
    "            loss_li_tra.append( loss_cpu_tra  )\n",
    "            if epoch % 1000==0 :\n",
    "                fig = plt.figure(figsize=(16,6))\n",
    "                gs = fig.add_gridspec(2,5)\n",
    "                ax4curve = fig.add_subplot(gs[0:2,0:2])\n",
    "                loss_li_tra.append( loss_cpu_tra  )\n",
    "                plt.plot( loss_li_tra )\n",
    "                plt.yscale(\"log\")\n",
    "                plt.title('train_loss,'+\"epoch:\"+str(epoch))                  \n",
    "\n",
    "            if args.do_validation:\n",
    "                avg_loss = self.one_epoch(train=False)\n",
    "                loss_cpu_val = avg_loss.detach().to(cpu).numpy().copy()\n",
    "            # validation loss\n",
    "            if epoch % 1000 == 0: \n",
    "                print(\"val_loss\", avg_loss.item())\n",
    "                logging.info(f\"Starting epoch {epoch}:\")\n",
    "                loss_li_val.append( loss_cpu_val  )\n",
    "            if epoch % 1000 == 0 :\n",
    "                fig = plt.figure(figsize=(16,6))\n",
    "                gs = fig.add_gridspec(2,5)\n",
    "                ax4curve = fig.add_subplot(gs[0:2,0:2])\n",
    "                loss_li_val.append( loss_cpu_val  )\n",
    "                plt.plot( loss_li_val )\n",
    "                plt.yscale(\"log\")\n",
    "                plt.title('validation_loss,'+\"epoch:\"+str(epoch))                  \n",
    "        \n",
    "            if epoch % save_epoch == save_epoch-1:\n",
    "                if epoch < save_epoch:\n",
    "                    self.save_model(run_name=args.run_name, epoch=epoch)\n",
    "                torch.save(self.model, os.path.join(model_save_dir, \"model_{0}.pt\".format(epoch)))                \n",
    "\n",
    "            if epoch % save_epoch == save_epoch-1:\n",
    "                fig = plt.figure(figsize=(16,6))\n",
    "                gs = fig.add_gridspec(2,5)\n",
    "                ax4curve = fig.add_subplot(gs[0:2,0:2])\n",
    "                loss_li_tra.append( loss_cpu_tra  )\n",
    "                plt.plot( loss_li_tra )\n",
    "                plt.yscale(\"log\")\n",
    "                plt.title('train_loss,'+\"epoch:\"+str(epoch))\n",
    "                plt.savefig(os.path.join(model_save_dir, 'tra_loss{0}.png'.format(epoch)))\n",
    "                \n",
    "                fig = plt.figure(figsize=(16,6))\n",
    "                gs = fig.add_gridspec(2,5)\n",
    "                ax4curve = fig.add_subplot(gs[0:2,0:2])\n",
    "                loss_li_val.append( loss_cpu_val  )\n",
    "                plt.plot( loss_li_val )\n",
    "                plt.yscale(\"log\")\n",
    "                plt.title('validation_loss,'+\"epoch:\"+str(epoch))  \n",
    "                plt.savefig(os.path.join(model_save_dir, 'val_loss{0}.png'.format(epoch)))"
   ]
  },
  {
   "cell_type": "code",
   "execution_count": 24,
   "id": "cfdbeff2-07a7-41f7-9887-9396eea0b69c",
   "metadata": {
    "tags": []
   },
   "outputs": [],
   "source": [
    "def parse_args(config):\n",
    "    \n",
    "    import easydict\n",
    "    args = easydict.EasyDict({\n",
    "        \"run_name\": config.run_name,\n",
    "        \"epoch\": config.epochs,\n",
    "        \"seed\": config.seed,\n",
    "        \"batch_size\": config.batch_size,\n",
    "        \"img_size\": config.img_size,\n",
    "        \"device\": config.device,\n",
    "        \"lr\": config.lr,\n",
    "        \"slice_size\": config.slice_size,\n",
    "        \"noise_steps\": config.noise_steps\n",
    "    })\n",
    "    \n",
    "    for k, v in args.items():\n",
    "        setattr(config, k, v)"
   ]
  },
  {
   "cell_type": "code",
   "execution_count": 25,
   "id": "697b32a5-a55d-4efb-b8e7-fea1e1cadb14",
   "metadata": {},
   "outputs": [],
   "source": [
    "diffuser = Diffusion(config.noise_steps, img_size=config.img_size)"
   ]
  },
  {
   "cell_type": "code",
   "execution_count": 26,
   "id": "2a60de28-c1e1-418a-9255-737cb34a5c48",
   "metadata": {
    "tags": []
   },
   "outputs": [
    {
     "data": {
      "text/html": [],
      "text/plain": [
       "<IPython.core.display.HTML object>"
      ]
     },
     "metadata": {},
     "output_type": "display_data"
    },
    {
     "data": {
      "image/png": "[encoded data removed]",
      "text/plain": [
       "<Figure size 400x400 with 2 Axes>"
      ]
     },
     "metadata": {},
     "output_type": "display_data"
    },
    {
     "data": {
      "image/png": "[encoded data removed]",
      "text/plain": [
       "<Figure size 400x400 with 2 Axes>"
      ]
     },
     "metadata": {},
     "output_type": "display_data"
    }
   ],
   "source": [
    "labels = torch.tensor([[0.5,0.2,0.4]]).cuda() \n",
    "\n",
    "samples0 = diffuser.sample(use_ema=True, labels=labels)\n",
    "samples = samples0.cpu()[0,:,:,:]\n",
    "samples_num = samples.numpy()\n",
    "plt.figure(figsize=(4, 4))\n",
    "plt.imshow(samples0.cpu()[0,0,:,:],cmap='coolwarm',interpolation='none') \n",
    "plt.colorbar()\n",
    "plt.show()\n",
    "plt.figure(figsize=(4, 4))\n",
    "plt.imshow(samples0.cpu()[0,1,:,:],cmap='plasma',interpolation='none') \n",
    "plt.colorbar()\n",
    "plt.show()"
   ]
  }
 ],
 "metadata": {
  "kernelspec": {
   "display_name": "Python 3 (ipykernel)",
   "language": "python",
   "name": "python3"
  },
  "language_info": {
   "codemirror_mode": {
    "name": "ipython",
    "version": 3
   },
   "file_extension": ".py",
   "mimetype": "text/x-python",
   "name": "python",
   "nbconvert_exporter": "python",
   "pygments_lexer": "ipython3",
   "version": "3.9.17"
  }
 },
 "nbformat": 4,
 "nbformat_minor": 5
}
